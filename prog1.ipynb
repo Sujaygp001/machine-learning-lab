#convert set into tuple and tuple into set
s={"a","b","c","d","e",}
print(type(s)," ",s)

t=tuple(s)
print(type(t)," ",t)

s=set(t)
print(type(s)," ",s)

#convert list of dictionary to tuples list
int_list=[{"a":[1,2,3]},{"b":[4,5,6]},{"c":[7,8,9]},{"d":[10,11,12]}]
fin_list=[(key,)+tuple(val) for dist in int_list for key,val in dist.items()]
print("list of tuples is:",fin_list)

#to flatten tuple of list to tuple
test_tuple=([5,6],[6,7,8,9],[3])
print("initial tuple:",test_tuple)

test_tuple=([5,6],[6,7,8,9],[3])
res = []
for i in test_tuple: 
    res.extend(i) 
res=tuple(res)
print("flattened tuple is:",res)

#sort list by nth eleent of tuple
ini_list=[(4,5,1),(6,1,5),(7,4,2),(6,2,4)]
print("the list of tuples is:",ini_list)

n=int(input("enter n value"))

ini_list.sort(key=lambda x: x[n])
print("sorted list is:",ini_list)

#convert tuple matrix to tuple list
ini_matrix=[((4,5),(7,8))],[((11,15),(10,13))],[((6,4),(8,6))]
print("tuple matrix:",ini_matrix)

x=[]
for i in ini_matrix:
    for j in i:
        j=list(j)
        x.extend(j)
        re1=[]
        re2=[]
        for i in range(0,len(x)):
            if(i%2==0):
                re1.append(x[i])
            else:
                re2.append(x[i])
res=[]
res.append(tuple(re1))
res.append(tuple(re2))

print("tuple list is",res)
        

