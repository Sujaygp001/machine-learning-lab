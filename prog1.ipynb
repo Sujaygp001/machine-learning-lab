#convert set into tuple and tuple into set
s={"a","b","c","d","e",}
print(type(s)," ",s)

t=tuple(s)
print(type(t)," ",t)

s=set(t)
print(type(s)," ",s)

#convert list of dictionary to tuples list
int_list=[{"a":[1,2,3]},{"b":[4,5,6]},{"c":[7,8,9]},{"d":[10,11,12]}]
fin_list=[(key,)+tuple(val) for dist in int_list for key,val in dist.items()]
print("list of tuples is:",fin_list)

